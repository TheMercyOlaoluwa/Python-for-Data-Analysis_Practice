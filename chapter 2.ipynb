{
 "cells": [
  {
   "cell_type": "markdown",
   "id": "50eae9b8-f4e1-4ecb-83d3-314bb1536cc6",
   "metadata": {},
   "source": [
    "#### 1. Print a message\n",
    "\n",
    "Print \"Hello, World!\""
   ]
  },
  {
   "cell_type": "code",
   "execution_count": 2,
   "id": "2cb641ee-9d8e-4f03-a779-a0aee9522636",
   "metadata": {},
   "outputs": [
    {
     "name": "stdout",
     "output_type": "stream",
     "text": [
      "Hello, World\n"
     ]
    }
   ],
   "source": [
    "print(\"Hello, World\")"
   ]
  },
  {
   "cell_type": "markdown",
   "id": "14905fb6-3585-490e-ae14-1ec834f7112e",
   "metadata": {},
   "source": [
    "#### 2. Variables and Operators\n",
    "Let:\n",
    "\n",
    "a = 10, b = 3, c = 10, d = \"python\"\n",
    "\n",
    "Perform the following:\n",
    "a. a + b\n",
    "\n",
    "b. a - b\n",
    "\n",
    "c. a * b\n",
    "\n",
    "d. a / b\n",
    "\n",
    "e. a % b\n",
    "\n",
    "f. a ** b\n",
    "\n",
    "g. Is a even and b even?\n",
    "\n",
    "h. Is a even or b even?\n",
    "\n",
    "i. Is either a or b true, but not both?\n",
    "\n",
    "j. Is a == b?\n",
    "\n",
    "k. Is a != b?\n",
    "\n",
    "l. Do a and c refer to the same Python object?\n",
    "\n",
    "m. What is the fifth letter in d?\n",
    "\n",
    "n. Return the first 3 letters in d."
   ]
  },
  {
   "cell_type": "code",
   "execution_count": 4,
   "id": "c650c810-960e-48dc-9692-45458d90a764",
   "metadata": {},
   "outputs": [],
   "source": [
    "a = 10\n",
    "b = 3\n",
    "c = 10\n",
    "d = \"python\""
   ]
  },
  {
   "cell_type": "code",
   "execution_count": 5,
   "id": "a1dd7518-0f14-4e66-9a5f-b75f5e761e8d",
   "metadata": {},
   "outputs": [
    {
     "data": {
      "text/plain": [
       "13"
      ]
     },
     "execution_count": 5,
     "metadata": {},
     "output_type": "execute_result"
    }
   ],
   "source": [
    "a + b"
   ]
  },
  {
   "cell_type": "code",
   "execution_count": 6,
   "id": "94b66f0a-a280-43ba-b213-105eb6418528",
   "metadata": {},
   "outputs": [
    {
     "data": {
      "text/plain": [
       "7"
      ]
     },
     "execution_count": 6,
     "metadata": {},
     "output_type": "execute_result"
    }
   ],
   "source": [
    "a - b"
   ]
  },
  {
   "cell_type": "code",
   "execution_count": 7,
   "id": "d564237e-48b8-4e94-970f-685e61b8859f",
   "metadata": {},
   "outputs": [
    {
     "data": {
      "text/plain": [
       "30"
      ]
     },
     "execution_count": 7,
     "metadata": {},
     "output_type": "execute_result"
    }
   ],
   "source": [
    "a * b"
   ]
  },
  {
   "cell_type": "code",
   "execution_count": 8,
   "id": "aa5aa046-41d8-4bf3-a02b-cc5deaeaf1fe",
   "metadata": {},
   "outputs": [
    {
     "data": {
      "text/plain": [
       "3.3333333333333335"
      ]
     },
     "execution_count": 8,
     "metadata": {},
     "output_type": "execute_result"
    }
   ],
   "source": [
    "a/b"
   ]
  },
  {
   "cell_type": "code",
   "execution_count": 9,
   "id": "bc96a130-2242-44e4-abfb-5ac7da2e9599",
   "metadata": {},
   "outputs": [
    {
     "data": {
      "text/plain": [
       "1"
      ]
     },
     "execution_count": 9,
     "metadata": {},
     "output_type": "execute_result"
    }
   ],
   "source": [
    "a % b"
   ]
  },
  {
   "cell_type": "code",
   "execution_count": 10,
   "id": "f8f48ae4-0ff2-4c6a-83ab-eb89cf3f1e96",
   "metadata": {},
   "outputs": [
    {
     "data": {
      "text/plain": [
       "3"
      ]
     },
     "execution_count": 10,
     "metadata": {},
     "output_type": "execute_result"
    }
   ],
   "source": [
    "a // b"
   ]
  },
  {
   "cell_type": "code",
   "execution_count": 11,
   "id": "c7302b7c-c337-468f-a398-cde5fa687e6f",
   "metadata": {},
   "outputs": [
    {
     "data": {
      "text/plain": [
       "1000"
      ]
     },
     "execution_count": 11,
     "metadata": {},
     "output_type": "execute_result"
    }
   ],
   "source": [
    "a ** b"
   ]
  },
  {
   "cell_type": "code",
   "execution_count": 12,
   "id": "ef040d20-9cc9-4179-a018-fd7b23ea6b3f",
   "metadata": {},
   "outputs": [
    {
     "data": {
      "text/plain": [
       "False"
      ]
     },
     "execution_count": 12,
     "metadata": {},
     "output_type": "execute_result"
    }
   ],
   "source": [
    "(a % 2 == 0) & (b % 2 == 0)"
   ]
  },
  {
   "cell_type": "code",
   "execution_count": 13,
   "id": "9df0c11f-89d0-481e-a890-798b09d7e1e1",
   "metadata": {},
   "outputs": [
    {
     "data": {
      "text/plain": [
       "True"
      ]
     },
     "execution_count": 13,
     "metadata": {},
     "output_type": "execute_result"
    }
   ],
   "source": [
    "(a % 2 == 0) | (b % 2 == 0)"
   ]
  },
  {
   "cell_type": "code",
   "execution_count": 14,
   "id": "65001a0f-d6e5-4965-8a7c-ffd8b4aa6a92",
   "metadata": {},
   "outputs": [
    {
     "data": {
      "text/plain": [
       "True"
      ]
     },
     "execution_count": 14,
     "metadata": {},
     "output_type": "execute_result"
    }
   ],
   "source": [
    "(a % 2 == 0) ^ (b % 2 == 0)"
   ]
  },
  {
   "cell_type": "code",
   "execution_count": 15,
   "id": "c259bc79-cd41-4457-bd89-4b1df9a95ef9",
   "metadata": {},
   "outputs": [
    {
     "data": {
      "text/plain": [
       "False"
      ]
     },
     "execution_count": 15,
     "metadata": {},
     "output_type": "execute_result"
    }
   ],
   "source": [
    "a == b"
   ]
  },
  {
   "cell_type": "code",
   "execution_count": 16,
   "id": "d6e3e798-d568-4b5e-a2bd-f3074ed52753",
   "metadata": {},
   "outputs": [
    {
     "data": {
      "text/plain": [
       "True"
      ]
     },
     "execution_count": 16,
     "metadata": {},
     "output_type": "execute_result"
    }
   ],
   "source": [
    "a != b"
   ]
  },
  {
   "cell_type": "code",
   "execution_count": 17,
   "id": "570c8816-adeb-44f3-82ed-0820392108ae",
   "metadata": {},
   "outputs": [
    {
     "data": {
      "text/plain": [
       "True"
      ]
     },
     "execution_count": 17,
     "metadata": {},
     "output_type": "execute_result"
    }
   ],
   "source": [
    "a is c"
   ]
  },
  {
   "cell_type": "code",
   "execution_count": 18,
   "id": "d955bc62-261e-4a2c-a5f8-cc1efac51a17",
   "metadata": {},
   "outputs": [
    {
     "data": {
      "text/plain": [
       "'o'"
      ]
     },
     "execution_count": 18,
     "metadata": {},
     "output_type": "execute_result"
    }
   ],
   "source": [
    "d[4]"
   ]
  },
  {
   "cell_type": "code",
   "execution_count": 19,
   "id": "869b1f19-b6a5-4bc3-8d2e-bcb707f7f0fa",
   "metadata": {},
   "outputs": [
    {
     "data": {
      "text/plain": [
       "'pyt'"
      ]
     },
     "execution_count": 19,
     "metadata": {},
     "output_type": "execute_result"
    }
   ],
   "source": [
    "d[:3]"
   ]
  },
  {
   "cell_type": "markdown",
   "id": "18277f83-696b-4886-9f91-3b43ef8f17da",
   "metadata": {},
   "source": [
    "#### 3. Salary Calculation\n",
    "\n",
    "wages = 100   # per hour, hours = 40\n",
    "\n",
    "a. Calculate the salary.\n",
    "\n",
    "b. Return text:\n",
    "\n",
    "\"At a rate of $100 per hour, working for 40 hours resulted in a salary of $4000.\""
   ]
  },
  {
   "cell_type": "code",
   "execution_count": 21,
   "id": "efb82e86-c18c-45fa-b9ce-afb2a85193b3",
   "metadata": {},
   "outputs": [
    {
     "data": {
      "text/plain": [
       "4000"
      ]
     },
     "execution_count": 21,
     "metadata": {},
     "output_type": "execute_result"
    }
   ],
   "source": [
    "wages = 100\n",
    "hours = 40\n",
    "salary = wages * hours\n",
    "salary"
   ]
  },
  {
   "cell_type": "code",
   "execution_count": 22,
   "id": "2d7d1c37-593b-4273-970e-0a6889389877",
   "metadata": {},
   "outputs": [
    {
     "name": "stdout",
     "output_type": "stream",
     "text": [
      "at the rate of $100 per hour, working for 40 resulted in a salry of $4000\n"
     ]
    }
   ],
   "source": [
    "print(f\"at the rate of ${wages} per hour, working for {hours} resulted in a salry of ${salary}\")"
   ]
  },
  {
   "cell_type": "markdown",
   "id": "6922d1a4-839d-47cf-8f34-2cd9f00f914e",
   "metadata": {},
   "source": [
    "#### 4. Numbers from 1 to 100\n",
    "a. Create a list of numbers from 1 to 100.\n",
    "\n",
    "For each number, indicate if it is divisible by 3.\n",
    "\n",
    "b. Count how many numbers are divisible by 3."
   ]
  },
  {
   "cell_type": "code",
   "execution_count": 24,
   "id": "803c1a38-a4c7-4021-9035-03de11b7118f",
   "metadata": {},
   "outputs": [
    {
     "data": {
      "text/plain": [
       "[0,\n",
       " 1,\n",
       " 2,\n",
       " 3,\n",
       " 4,\n",
       " 5,\n",
       " 6,\n",
       " 7,\n",
       " 8,\n",
       " 9,\n",
       " 10,\n",
       " 11,\n",
       " 12,\n",
       " 13,\n",
       " 14,\n",
       " 15,\n",
       " 16,\n",
       " 17,\n",
       " 18,\n",
       " 19,\n",
       " 20,\n",
       " 21,\n",
       " 22,\n",
       " 23,\n",
       " 24,\n",
       " 25,\n",
       " 26,\n",
       " 27,\n",
       " 28,\n",
       " 29,\n",
       " 30,\n",
       " 31,\n",
       " 32,\n",
       " 33,\n",
       " 34,\n",
       " 35,\n",
       " 36,\n",
       " 37,\n",
       " 38,\n",
       " 39,\n",
       " 40,\n",
       " 41,\n",
       " 42,\n",
       " 43,\n",
       " 44,\n",
       " 45,\n",
       " 46,\n",
       " 47,\n",
       " 48,\n",
       " 49,\n",
       " 50,\n",
       " 51,\n",
       " 52,\n",
       " 53,\n",
       " 54,\n",
       " 55,\n",
       " 56,\n",
       " 57,\n",
       " 58,\n",
       " 59,\n",
       " 60,\n",
       " 61,\n",
       " 62,\n",
       " 63,\n",
       " 64,\n",
       " 65,\n",
       " 66,\n",
       " 67,\n",
       " 68,\n",
       " 69,\n",
       " 70,\n",
       " 71,\n",
       " 72,\n",
       " 73,\n",
       " 74,\n",
       " 75,\n",
       " 76,\n",
       " 77,\n",
       " 78,\n",
       " 79,\n",
       " 80,\n",
       " 81,\n",
       " 82,\n",
       " 83,\n",
       " 84,\n",
       " 85,\n",
       " 86,\n",
       " 87,\n",
       " 88,\n",
       " 89,\n",
       " 90,\n",
       " 91,\n",
       " 92,\n",
       " 93,\n",
       " 94,\n",
       " 95,\n",
       " 96,\n",
       " 97,\n",
       " 98,\n",
       " 99,\n",
       " 100]"
      ]
     },
     "execution_count": 24,
     "metadata": {},
     "output_type": "execute_result"
    }
   ],
   "source": [
    "list_100 = list(range(101))\n",
    "list_100"
   ]
  },
  {
   "cell_type": "code",
   "execution_count": 25,
   "id": "1a64d4f0-28a5-4e36-a4b1-a17dc6fd480f",
   "metadata": {},
   "outputs": [
    {
     "name": "stdout",
     "output_type": "stream",
     "text": [
      "34\n"
     ]
    }
   ],
   "source": [
    "count = 0\n",
    "for x in list_100:\n",
    "    if x%3 == 0:\n",
    "        count +=1\n",
    "print(count)"
   ]
  },
  {
   "cell_type": "markdown",
   "id": "4d9de59a-e619-4dc7-b3b3-d5d7ad98a8f8",
   "metadata": {},
   "source": [
    "#### 5. Working with Dates\n",
    "Create a datetime variable:\n",
    "\n",
    "dt = January 20, 2025, 10:30 PM\n",
    "\n",
    "\n",
    "a. Extract the date and time from dt.\n",
    "\n",
    "b. Convert dt to a string.\n",
    "\n",
    "c. Create another datetime dt2 = February 15, 2025.\n",
    "\n",
    "d. How many days are between dt and dt2?\n",
    "\n",
    "e. What is the date 10 days after dt2?"
   ]
  },
  {
   "cell_type": "code",
   "execution_count": 27,
   "id": "f28934c1-1376-4463-89b7-22bc787fea9b",
   "metadata": {},
   "outputs": [],
   "source": [
    "from datetime import datetime, date, time"
   ]
  },
  {
   "cell_type": "code",
   "execution_count": 28,
   "id": "766bf3b1-f98b-4615-aefe-0fd61ae8b02e",
   "metadata": {},
   "outputs": [],
   "source": [
    "dt = datetime(2025,1,20,22,30,0)"
   ]
  },
  {
   "cell_type": "code",
   "execution_count": 29,
   "id": "e3e094fe-16ff-48ae-900b-c4d1b45ccc4e",
   "metadata": {},
   "outputs": [
    {
     "data": {
      "text/plain": [
       "datetime.date(2025, 1, 20)"
      ]
     },
     "execution_count": 29,
     "metadata": {},
     "output_type": "execute_result"
    }
   ],
   "source": [
    "dt.date()"
   ]
  },
  {
   "cell_type": "code",
   "execution_count": 30,
   "id": "aec9fa28-f595-4208-82a3-ab537078b832",
   "metadata": {},
   "outputs": [
    {
     "data": {
      "text/plain": [
       "datetime.time(22, 30)"
      ]
     },
     "execution_count": 30,
     "metadata": {},
     "output_type": "execute_result"
    }
   ],
   "source": [
    "dt.time()"
   ]
  },
  {
   "cell_type": "code",
   "execution_count": 31,
   "id": "9935ded2-0502-4dda-b5e4-a591dd3841f8",
   "metadata": {},
   "outputs": [
    {
     "data": {
      "text/plain": [
       "'2025-30-20 22:30'"
      ]
     },
     "execution_count": 31,
     "metadata": {},
     "output_type": "execute_result"
    }
   ],
   "source": [
    "dt.strftime(\"%Y-%M-%d %H:%M\")"
   ]
  },
  {
   "cell_type": "code",
   "execution_count": 32,
   "id": "98470d8f-d7bd-496a-92b0-c646ffe37cdc",
   "metadata": {},
   "outputs": [],
   "source": [
    "dt2 = datetime(2025, 2, 15, 0, 0, 0)"
   ]
  },
  {
   "cell_type": "code",
   "execution_count": 33,
   "id": "f5b91b8d-0066-45b0-89ed-ddce17304e5e",
   "metadata": {},
   "outputs": [
    {
     "data": {
      "text/plain": [
       "datetime.timedelta(days=25, seconds=5400)"
      ]
     },
     "execution_count": 33,
     "metadata": {},
     "output_type": "execute_result"
    }
   ],
   "source": [
    "dt2 - dt"
   ]
  },
  {
   "cell_type": "code",
   "execution_count": 38,
   "id": "b2f4a583-841e-43c0-9164-fb650f1886b8",
   "metadata": {},
   "outputs": [
    {
     "name": "stdout",
     "output_type": "stream",
     "text": [
      "2025-02-25 00:00:00\n"
     ]
    }
   ],
   "source": [
    "from datetime import timedelta\n",
    "dt2_plu_10_days = dt2 + timedelta(days=10)\n",
    "print(dt2_plu_10_days)"
   ]
  },
  {
   "cell_type": "code",
   "execution_count": 48,
   "id": "73233d84-0337-48d7-9f11-abd62c97c3aa",
   "metadata": {},
   "outputs": [
    {
     "data": {
      "text/plain": [
       "datetime.datetime(2025, 2, 25, 0, 0)"
      ]
     },
     "execution_count": 48,
     "metadata": {},
     "output_type": "execute_result"
    }
   ],
   "source": [
    "import datetime\n",
    "dt3 = dt2 + datetime.timedelta(days = 10)\n",
    "dt3"
   ]
  },
  {
   "cell_type": "markdown",
   "id": "de71ffba-5d52-43d1-a30a-ae30c4127d12",
   "metadata": {},
   "source": [
    "#### 6. Laptop Cost Classification\n",
    "Given:\n",
    "\n",
    "cost = 1000000\n",
    "\n",
    "Classify the laptop as:\n",
    "\n",
    "Low-end: < 300,000\n",
    "\n",
    "Mid-range: 300,001 – 700,000\n",
    "\n",
    "High-end: > 700,000"
   ]
  },
  {
   "cell_type": "code",
   "execution_count": 55,
   "id": "1d054123-306e-48ef-a72f-955c90568fb2",
   "metadata": {},
   "outputs": [
    {
     "name": "stdout",
     "output_type": "stream",
     "text": [
      "High end\n"
     ]
    }
   ],
   "source": [
    "laptop_cost = 1000000\n",
    "if laptop_cost < 300000:\n",
    "    print(\"Low end\")\n",
    "elif laptop_cost <= 700000:\n",
    "    print(\"Mid range\")\n",
    "else:\n",
    "    print(\"High end\")\n"
   ]
  },
  {
   "cell_type": "markdown",
   "id": "d81c0b47-6520-4042-a4ca-fdce918fffcf",
   "metadata": {},
   "source": [
    "#### 7. Sum of Numbers Divisible by 3\n",
    "Find the sum of all numbers divisible by 3 in the range 1–50."
   ]
  },
  {
   "cell_type": "code",
   "execution_count": 78,
   "id": "bbaba638-b354-46ba-853b-df13e552a570",
   "metadata": {},
   "outputs": [
    {
     "name": "stdout",
     "output_type": "stream",
     "text": [
      "408\n"
     ]
    }
   ],
   "source": [
    "list_1_50 = list(range(51))\n",
    "sum30 = 0\n",
    "for x in list_1_50:\n",
    "     if x%3 == 0:\n",
    "         sum30 += x\n",
    "print(sum30)"
   ]
  },
  {
   "cell_type": "markdown",
   "id": "ec447a95-65e7-42b2-88e8-ae037d99bb97",
   "metadata": {},
   "source": [
    "#### 8. Positive, Negative, or Zero\n",
    "Write a program that checks if a number is positive, negative, or zero."
   ]
  },
  {
   "cell_type": "code",
   "execution_count": 86,
   "id": "58cdd910-db6b-4906-9d26-d5c9e8633e34",
   "metadata": {},
   "outputs": [
    {
     "name": "stdout",
     "output_type": "stream",
     "text": [
      "positive_no\n"
     ]
    }
   ],
   "source": [
    "def check_number(x):\n",
    "    if x < 0:\n",
    "        print(\"negative_no\")\n",
    "    elif x > 0:\n",
    "        print(\"positive_no\")\n",
    "    else:\n",
    "        print(\"zero\")\n",
    "check_number(25)"
   ]
  },
  {
   "cell_type": "code",
   "execution_count": 88,
   "id": "02a88f50-a6eb-43a3-83e3-01631cfe48d5",
   "metadata": {},
   "outputs": [
    {
     "name": "stdout",
     "output_type": "stream",
     "text": [
      "negative_no\n"
     ]
    }
   ],
   "source": [
    "check_number(-5)"
   ]
  },
  {
   "cell_type": "code",
   "execution_count": 90,
   "id": "1a45c58d-364b-4206-a032-27827d260681",
   "metadata": {},
   "outputs": [
    {
     "name": "stdout",
     "output_type": "stream",
     "text": [
      "zero\n"
     ]
    }
   ],
   "source": [
    "check_number(0)"
   ]
  },
  {
   "cell_type": "markdown",
   "id": "b09954fa-ef3b-48bf-af92-4c4daa4e140f",
   "metadata": {},
   "source": [
    "#### 9. Multiplication Table (For Loop)\n",
    "Use a for loop to print the multiplication table of 7 (from 7 × 1 up to 7 × 10)."
   ]
  },
  {
   "cell_type": "code",
   "execution_count": 115,
   "id": "125163f1-d955-459f-8ea8-7e1357eb8259",
   "metadata": {},
   "outputs": [
    {
     "name": "stdout",
     "output_type": "stream",
     "text": [
      "7 * 1 =  7\n",
      "7 * 2 =  14\n",
      "7 * 3 =  21\n",
      "7 * 4 =  28\n",
      "7 * 5 =  35\n",
      "7 * 6 =  42\n",
      "7 * 7 =  49\n",
      "7 * 8 =  56\n",
      "7 * 9 =  63\n",
      "7 * 10 =  70\n"
     ]
    }
   ],
   "source": [
    "for x in list(range(1,11)):\n",
    "    print(f\"7 * {x} = \", 7 * x)"
   ]
  },
  {
   "cell_type": "markdown",
   "id": "c137db17-b96b-4020-aca7-820a43061d88",
   "metadata": {},
   "source": [
    "11. Countdown (While Loop)\n",
    "Use a while loop to count down from 10 to 1, then print \"Liftoff!\"."
   ]
  },
  {
   "cell_type": "code",
   "execution_count": 134,
   "id": "fbaa7b4c-7e09-4248-ada3-16377a01958a",
   "metadata": {},
   "outputs": [
    {
     "name": "stdout",
     "output_type": "stream",
     "text": [
      "10\n",
      "9\n",
      "8\n",
      "7\n",
      "6\n",
      "5\n",
      "4\n",
      "3\n",
      "2\n",
      "1\n",
      "Liftoff!\n"
     ]
    }
   ],
   "source": [
    "x = 10\n",
    "while x > 0:\n",
    "    print(x)\n",
    "    x -= 1\n",
    "else:\n",
    "     print( \"Liftoff!\")"
   ]
  },
  {
   "cell_type": "code",
   "execution_count": null,
   "id": "a518558d-8994-4bab-8b6f-71eea0a5d839",
   "metadata": {},
   "outputs": [],
   "source": []
  }
 ],
 "metadata": {
  "kernelspec": {
   "display_name": "Python [conda env:base] *",
   "language": "python",
   "name": "conda-base-py"
  },
  "language_info": {
   "codemirror_mode": {
    "name": "ipython",
    "version": 3
   },
   "file_extension": ".py",
   "mimetype": "text/x-python",
   "name": "python",
   "nbconvert_exporter": "python",
   "pygments_lexer": "ipython3",
   "version": "3.12.7"
  }
 },
 "nbformat": 4,
 "nbformat_minor": 5
}
